{
 "cells": [
  {
   "cell_type": "markdown",
   "id": "95d2b952-ea0e-41fa-bbb3-8b39bad01c58",
   "metadata": {},
   "source": [
    "# Python Basics"
   ]
  },
  {
   "cell_type": "code",
   "execution_count": 38,
   "id": "09989857-6eba-449d-a1ca-6ff726378edc",
   "metadata": {},
   "outputs": [],
   "source": [
    "from math import *"
   ]
  },
  {
   "cell_type": "markdown",
   "id": "dc622392-2712-451c-aa8d-fe0a667c32ee",
   "metadata": {},
   "source": [
    "## Simple Types\n",
    "- text: str\n",
    "- numbers: int, float\n",
    "- booleans: \n",
    "- not a value: None (NoneType)"
   ]
  },
  {
   "cell_type": "code",
   "execution_count": 1,
   "id": "68efa278-2272-4e13-a717-46f8627095cc",
   "metadata": {},
   "outputs": [
    {
     "data": {
      "text/plain": [
       "'Genève'"
      ]
     },
     "execution_count": 1,
     "metadata": {},
     "output_type": "execute_result"
    }
   ],
   "source": [
    "city = \"Genève\"\n",
    "city"
   ]
  },
  {
   "cell_type": "code",
   "execution_count": 2,
   "id": "e2e6bd37-418b-45c9-9c31-22dff89b5558",
   "metadata": {},
   "outputs": [
    {
     "data": {
      "text/plain": [
       "str"
      ]
     },
     "execution_count": 2,
     "metadata": {},
     "output_type": "execute_result"
    }
   ],
   "source": [
    "type(city)"
   ]
  },
  {
   "cell_type": "code",
   "execution_count": 3,
   "id": "8a8df10b-5ca2-4314-b840-102d00ccc7fd",
   "metadata": {},
   "outputs": [
    {
     "data": {
      "text/plain": [
       "1000"
      ]
     },
     "execution_count": 3,
     "metadata": {},
     "output_type": "execute_result"
    }
   ],
   "source": [
    "distance = 1000\n",
    "distance"
   ]
  },
  {
   "cell_type": "code",
   "execution_count": 4,
   "id": "f10e7803-7796-4e92-a1b6-abb40486d473",
   "metadata": {},
   "outputs": [
    {
     "data": {
      "text/plain": [
       "int"
      ]
     },
     "execution_count": 4,
     "metadata": {},
     "output_type": "execute_result"
    }
   ],
   "source": [
    "type(distance)"
   ]
  },
  {
   "cell_type": "code",
   "execution_count": 5,
   "id": "9e484f3e-2fb6-40b7-aaa6-1fcc72e2b340",
   "metadata": {},
   "outputs": [
    {
     "data": {
      "text/plain": [
       "12.5"
      ]
     },
     "execution_count": 5,
     "metadata": {},
     "output_type": "execute_result"
    }
   ],
   "source": [
    "price = 12.5\n",
    "price"
   ]
  },
  {
   "cell_type": "code",
   "execution_count": 6,
   "id": "65ee1ef3-d67d-4b5c-aecc-23588939c87b",
   "metadata": {},
   "outputs": [
    {
     "name": "stdout",
     "output_type": "stream",
     "text": [
      "12.5\n"
     ]
    }
   ],
   "source": [
    "print(price)"
   ]
  },
  {
   "cell_type": "code",
   "execution_count": 7,
   "id": "735111bc-3b51-49a6-860f-a192915bc065",
   "metadata": {},
   "outputs": [
    {
     "name": "stdout",
     "output_type": "stream",
     "text": [
      "True: <class 'bool'>\n",
      "False: <class 'bool'>\n"
     ]
    }
   ],
   "source": [
    "for b in True, False:\n",
    "    print(b, type(b), sep=': ')"
   ]
  },
  {
   "cell_type": "code",
   "execution_count": 8,
   "id": "00dd7cca-e8df-4c9e-a831-b5563452887e",
   "metadata": {},
   "outputs": [
    {
     "data": {
      "text/plain": [
       "bool"
      ]
     },
     "execution_count": 8,
     "metadata": {},
     "output_type": "execute_result"
    }
   ],
   "source": [
    "type(b)"
   ]
  },
  {
   "cell_type": "markdown",
   "id": "c8192475-8e82-44a5-8d16-d7479f88c556",
   "metadata": {},
   "source": [
    "## Operators\n",
    "- comparisons: < <= > >= == !=  \n",
    "- object identity: is, is not\n",
    "- contains: in, not in"
   ]
  },
  {
   "cell_type": "code",
   "execution_count": 9,
   "id": "9cbf368f-3aae-48d7-9418-c795478bb577",
   "metadata": {},
   "outputs": [
    {
     "data": {
      "text/plain": [
       "True"
      ]
     },
     "execution_count": 9,
     "metadata": {},
     "output_type": "execute_result"
    }
   ],
   "source": [
    "price < 50"
   ]
  },
  {
   "cell_type": "code",
   "execution_count": 10,
   "id": "72413a27-c11d-4320-9ace-423e3ce0e2f7",
   "metadata": {},
   "outputs": [
    {
     "data": {
      "text/plain": [
       "True"
      ]
     },
     "execution_count": 10,
     "metadata": {},
     "output_type": "execute_result"
    }
   ],
   "source": [
    "price == 12.5"
   ]
  },
  {
   "cell_type": "code",
   "execution_count": 11,
   "id": "47ef00f2-0af7-486e-b624-fdbc9b2f2737",
   "metadata": {},
   "outputs": [
    {
     "data": {
      "text/plain": [
       "True"
      ]
     },
     "execution_count": 11,
     "metadata": {},
     "output_type": "execute_result"
    }
   ],
   "source": [
    "'ève' in city"
   ]
  },
  {
   "cell_type": "code",
   "execution_count": 12,
   "id": "2543f656-8a83-44e9-89a2-ab4dae104a07",
   "metadata": {},
   "outputs": [
    {
     "data": {
      "text/plain": [
       "False"
      ]
     },
     "execution_count": 12,
     "metadata": {},
     "output_type": "execute_result"
    }
   ],
   "source": [
    "city is None"
   ]
  },
  {
   "cell_type": "code",
   "execution_count": 13,
   "id": "373e1d2f-36ec-4eeb-9d94-5dce1a974a86",
   "metadata": {},
   "outputs": [
    {
     "data": {
      "text/plain": [
       "False"
      ]
     },
     "execution_count": 13,
     "metadata": {},
     "output_type": "execute_result"
    }
   ],
   "source": [
    "city == 'Pau'"
   ]
  },
  {
   "cell_type": "code",
   "execution_count": 14,
   "id": "8c0abc01-8f2c-464e-9776-782721877fe9",
   "metadata": {},
   "outputs": [
    {
     "data": {
      "text/plain": [
       "True"
      ]
     },
     "execution_count": 14,
     "metadata": {},
     "output_type": "execute_result"
    }
   ],
   "source": [
    "city < 'Pau'"
   ]
  },
  {
   "cell_type": "code",
   "execution_count": 15,
   "id": "77f83667-c5df-4bd1-b596-c170e5a88e3a",
   "metadata": {},
   "outputs": [
    {
     "data": {
      "text/plain": [
       "False"
      ]
     },
     "execution_count": 15,
     "metadata": {},
     "output_type": "execute_result"
    }
   ],
   "source": [
    "# lower case letters are after upper case letters\n",
    "city.lower() < 'Pau'"
   ]
  },
  {
   "cell_type": "code",
   "execution_count": 16,
   "id": "24a157a1-ce9a-458d-8049-04cb68f3137e",
   "metadata": {},
   "outputs": [
    {
     "data": {
      "text/plain": [
       "'genève'"
      ]
     },
     "execution_count": 16,
     "metadata": {},
     "output_type": "execute_result"
    }
   ],
   "source": [
    "# NB:\n",
    "city.lower()"
   ]
  },
  {
   "cell_type": "code",
   "execution_count": 17,
   "id": "d6b79fa0-76fc-4870-8677-b5fccfbf6d08",
   "metadata": {},
   "outputs": [
    {
     "data": {
      "text/plain": [
       "'Genève, ville suisse'"
      ]
     },
     "execution_count": 17,
     "metadata": {},
     "output_type": "execute_result"
    }
   ],
   "source": [
    "city + ', ville suisse'"
   ]
  },
  {
   "cell_type": "code",
   "execution_count": 18,
   "id": "ff187986-d726-4ac8-9ed8-f8276e5bc8db",
   "metadata": {},
   "outputs": [
    {
     "data": {
      "text/plain": [
       "'GenèveGenèveGenève'"
      ]
     },
     "execution_count": 18,
     "metadata": {},
     "output_type": "execute_result"
    }
   ],
   "source": [
    "3*city"
   ]
  },
  {
   "cell_type": "code",
   "execution_count": 19,
   "id": "aff1058f-bf43-40ba-82bd-3de80cc9017d",
   "metadata": {},
   "outputs": [],
   "source": [
    "# TypeError: can't multiply sequence by non-int of type 'str'\n",
    "# city * city"
   ]
  },
  {
   "cell_type": "code",
   "execution_count": 30,
   "id": "33173fef-9511-4cb0-9bf7-89bd12b0cd51",
   "metadata": {},
   "outputs": [
    {
     "data": {
      "text/plain": [
       "'in Genève price of a baguette is 12.5'"
      ]
     },
     "execution_count": 30,
     "metadata": {},
     "output_type": "execute_result"
    }
   ],
   "source": [
    "# TypeError: can only concatenate str (not \"float\") to str\n",
    "# 'in ' + city + ' price of a baguette is ' + price\n",
    "\n",
    "# use instead f-string(python 3.6)\n",
    "f\"in {city} price of a baguette is {price}\""
   ]
  },
  {
   "cell_type": "code",
   "execution_count": 31,
   "id": "ca4292aa-ace9-44e7-bded-9251ba3f336b",
   "metadata": {},
   "outputs": [
    {
     "data": {
      "text/plain": [
       "'in Genève price of a baguette is 12.5'"
      ]
     },
     "execution_count": 31,
     "metadata": {},
     "output_type": "execute_result"
    }
   ],
   "source": [
    "# i.e.:\n",
    "\"in {} price of a baguette is {}\".format(city, price)"
   ]
  },
  {
   "cell_type": "markdown",
   "id": "a262843c-c753-40d5-8d50-908d778a4476",
   "metadata": {},
   "source": [
    "- computing: + - * / // % **"
   ]
  },
  {
   "cell_type": "code",
   "execution_count": 20,
   "id": "a7b6b103-89e5-42ef-97a2-3ad9890ea315",
   "metadata": {},
   "outputs": [
    {
     "data": {
      "text/plain": [
       "37.5"
      ]
     },
     "execution_count": 20,
     "metadata": {},
     "output_type": "execute_result"
    }
   ],
   "source": [
    "price * 3"
   ]
  },
  {
   "cell_type": "code",
   "execution_count": 21,
   "id": "b6332a75-d876-47eb-9bc1-d3c3c40ff19a",
   "metadata": {},
   "outputs": [
    {
     "data": {
      "text/plain": [
       "333.3333333333333"
      ]
     },
     "execution_count": 21,
     "metadata": {},
     "output_type": "execute_result"
    }
   ],
   "source": [
    "# division of 2 integers returns a float\n",
    "distance / 3"
   ]
  },
  {
   "cell_type": "code",
   "execution_count": 22,
   "id": "0fbbbf8c-bf97-4150-a47e-5ad3cebe17f4",
   "metadata": {},
   "outputs": [
    {
     "data": {
      "text/plain": [
       "333"
      ]
     },
     "execution_count": 22,
     "metadata": {},
     "output_type": "execute_result"
    }
   ],
   "source": [
    "# integer quotient\n",
    "distance // 3"
   ]
  },
  {
   "cell_type": "code",
   "execution_count": 23,
   "id": "40ed19fa-94ef-4903-958e-44ea64578efe",
   "metadata": {},
   "outputs": [
    {
     "data": {
      "text/plain": [
       "1"
      ]
     },
     "execution_count": 23,
     "metadata": {},
     "output_type": "execute_result"
    }
   ],
   "source": [
    "# integer reminder (modulo)\n",
    "distance % 3"
   ]
  },
  {
   "cell_type": "code",
   "execution_count": 24,
   "id": "9bc30611-3b79-45cf-b1ac-cda2eb973d03",
   "metadata": {},
   "outputs": [
    {
     "data": {
      "text/plain": [
       "(1024, 1000)"
      ]
     },
     "execution_count": 24,
     "metadata": {},
     "output_type": "execute_result"
    }
   ],
   "source": [
    "2**10, 10**3"
   ]
  },
  {
   "cell_type": "markdown",
   "id": "3f03e4cb-4879-4dc8-9108-8fdfcd6ef9a5",
   "metadata": {},
   "source": [
    "## Functions and methods\n",
    "- builtin functions"
   ]
  },
  {
   "cell_type": "code",
   "execution_count": 32,
   "id": "8519d9fe-1983-41a8-a900-0e065c33025d",
   "metadata": {},
   "outputs": [
    {
     "name": "stdout",
     "output_type": "stream",
     "text": [
      "Genève 12.5\n"
     ]
    }
   ],
   "source": [
    "print(city, price)"
   ]
  },
  {
   "cell_type": "code",
   "execution_count": 25,
   "id": "7ca7811d-3293-43c0-a136-a8d6e6558584",
   "metadata": {},
   "outputs": [
    {
     "data": {
      "text/plain": [
       "13"
      ]
     },
     "execution_count": 25,
     "metadata": {},
     "output_type": "execute_result"
    }
   ],
   "source": [
    "abs(-13)"
   ]
  },
  {
   "cell_type": "code",
   "execution_count": 33,
   "id": "4d50f8eb-8ac5-4fab-b616-1822e04d6e65",
   "metadata": {},
   "outputs": [
    {
     "data": {
      "text/plain": [
       "\u001b[1;31mDocstring:\u001b[0m\n",
       "print(value, ..., sep=' ', end='\\n', file=sys.stdout, flush=False)\n",
       "\n",
       "Prints the values to a stream, or to sys.stdout by default.\n",
       "Optional keyword arguments:\n",
       "file:  a file-like object (stream); defaults to the current sys.stdout.\n",
       "sep:   string inserted between values, default a space.\n",
       "end:   string appended after the last value, default a newline.\n",
       "flush: whether to forcibly flush the stream.\n",
       "\u001b[1;31mType:\u001b[0m      builtin_function_or_method\n"
      ]
     },
     "metadata": {},
     "output_type": "display_data"
    }
   ],
   "source": [
    "print?"
   ]
  },
  {
   "cell_type": "code",
   "execution_count": 34,
   "id": "d9e7c671-3acb-40f2-97fc-487b40f4b803",
   "metadata": {},
   "outputs": [
    {
     "data": {
      "text/plain": [
       "6"
      ]
     },
     "execution_count": 34,
     "metadata": {},
     "output_type": "execute_result"
    }
   ],
   "source": [
    "len(city)"
   ]
  },
  {
   "cell_type": "code",
   "execution_count": 39,
   "id": "fc3f2a22-7848-4b5b-8675-dbd16763519b",
   "metadata": {},
   "outputs": [
    {
     "data": {
      "text/plain": [
       "5.0"
      ]
     },
     "execution_count": 39,
     "metadata": {},
     "output_type": "execute_result"
    }
   ],
   "source": [
    "# need import module math\n",
    "sqrt(25)"
   ]
  },
  {
   "cell_type": "code",
   "execution_count": null,
   "id": "b0f13941-9b29-49ac-8141-e349aa897bf9",
   "metadata": {},
   "outputs": [],
   "source": [
    "# try: log, ceil, floor, round, gcd"
   ]
  },
  {
   "cell_type": "code",
   "execution_count": 42,
   "id": "32af05c9-bf6b-411a-a000-b8d699b70cef",
   "metadata": {},
   "outputs": [
    {
     "data": {
      "text/plain": [
       "0"
      ]
     },
     "execution_count": 42,
     "metadata": {},
     "output_type": "execute_result"
    }
   ],
   "source": [
    "gcd()"
   ]
  },
  {
   "cell_type": "code",
   "execution_count": 43,
   "id": "cf38ff3a-fce1-4a67-925c-525415808b33",
   "metadata": {},
   "outputs": [
    {
     "data": {
      "text/plain": [
       "14"
      ]
     },
     "execution_count": 43,
     "metadata": {},
     "output_type": "execute_result"
    }
   ],
   "source": [
    "gcd(14)"
   ]
  },
  {
   "cell_type": "code",
   "execution_count": 44,
   "id": "feb1044b-7377-498c-a7cc-ce43b958e3eb",
   "metadata": {},
   "outputs": [
    {
     "data": {
      "text/plain": [
       "7"
      ]
     },
     "execution_count": 44,
     "metadata": {},
     "output_type": "execute_result"
    }
   ],
   "source": [
    "gcd(14, 21)"
   ]
  },
  {
   "cell_type": "code",
   "execution_count": 45,
   "id": "3313b54a-801c-47ff-b7ed-130b0ac226fc",
   "metadata": {},
   "outputs": [
    {
     "data": {
      "text/plain": [
       "1"
      ]
     },
     "execution_count": 45,
     "metadata": {},
     "output_type": "execute_result"
    }
   ],
   "source": [
    "gcd(14, 21, 33)"
   ]
  },
  {
   "cell_type": "code",
   "execution_count": 47,
   "id": "8a428082-afed-4086-adc1-0ed87685aee5",
   "metadata": {},
   "outputs": [
    {
     "data": {
      "text/plain": [
       "(2.9999999999999996, 3.0, 10.0, 10.0)"
      ]
     },
     "execution_count": 47,
     "metadata": {},
     "output_type": "execute_result"
    }
   ],
   "source": [
    "log(1000, 10), log10(1000), log(1024, 2), log2(1024)"
   ]
  },
  {
   "cell_type": "code",
   "execution_count": 50,
   "id": "561d1b36-f8ae-4f68-a8b4-17fddd55be8d",
   "metadata": {},
   "outputs": [
    {
     "data": {
      "text/plain": [
       "(12, 13, 12, 12)"
      ]
     },
     "execution_count": 50,
     "metadata": {},
     "output_type": "execute_result"
    }
   ],
   "source": [
    "round(price), ceil(price), floor(price), trunc(price)"
   ]
  },
  {
   "cell_type": "code",
   "execution_count": 52,
   "id": "5860fb8c-2dce-440a-a746-f0ecc9e6495b",
   "metadata": {},
   "outputs": [
    {
     "data": {
      "text/plain": [
       "(333, 333.333, 333.33)"
      ]
     },
     "execution_count": 52,
     "metadata": {},
     "output_type": "execute_result"
    }
   ],
   "source": [
    "d = distance / 3\n",
    "round(d), round(d, 3), round(d, ndigits=2)"
   ]
  },
  {
   "cell_type": "code",
   "execution_count": 57,
   "id": "aa2f744b-db21-4e21-a73c-58719c90a6d7",
   "metadata": {},
   "outputs": [
    {
     "name": "stdout",
     "output_type": "stream",
     "text": [
      "12.5, 1000, 333\n"
     ]
    }
   ],
   "source": [
    "print(price, distance, round(distance/3), sep=', ')"
   ]
  },
  {
   "cell_type": "code",
   "execution_count": 58,
   "id": "18402e8b-07db-43e6-ad84-6de780996192",
   "metadata": {},
   "outputs": [
    {
     "data": {
      "text/plain": [
       "'genève'"
      ]
     },
     "execution_count": 58,
     "metadata": {},
     "output_type": "execute_result"
    }
   ],
   "source": [
    "city.lower()"
   ]
  },
  {
   "cell_type": "code",
   "execution_count": 59,
   "id": "56cc1eb7-2a6f-4673-bf9e-645d77602483",
   "metadata": {},
   "outputs": [
    {
     "data": {
      "text/plain": [
       "'GENÈVE'"
      ]
     },
     "execution_count": 59,
     "metadata": {},
     "output_type": "execute_result"
    }
   ],
   "source": [
    "city.upper()"
   ]
  },
  {
   "cell_type": "code",
   "execution_count": 60,
   "id": "ec66dde2-b715-4232-b56b-ad80b720df13",
   "metadata": {},
   "outputs": [
    {
     "data": {
      "text/plain": [
       "2"
      ]
     },
     "execution_count": 60,
     "metadata": {},
     "output_type": "execute_result"
    }
   ],
   "source": [
    "city.count('e')"
   ]
  },
  {
   "cell_type": "code",
   "execution_count": 62,
   "id": "4ccdde4d-c6eb-41c5-bd61-3c98adca3e46",
   "metadata": {},
   "outputs": [
    {
     "data": {
      "text/plain": [
       "3"
      ]
     },
     "execution_count": 62,
     "metadata": {},
     "output_type": "execute_result"
    }
   ],
   "source": [
    "city.index('è')"
   ]
  },
  {
   "cell_type": "code",
   "execution_count": 68,
   "id": "3363cf67-4ffb-4f97-8b1f-d7f9a101f1c1",
   "metadata": {},
   "outputs": [
    {
     "name": "stdout",
     "output_type": "stream",
     "text": [
      "found 'e' at pos: 1\n",
      "found 'e' at pos: 5\n"
     ]
    }
   ],
   "source": [
    "pos = city.index('e')\n",
    "print(\"found 'e' at pos:\", pos)\n",
    "pos = city.index('e', pos + 1)\n",
    "print(\"found 'e' at pos:\", pos)\n",
    "# pos = city.index('e', pos + 1) # ValueError: substring not found"
   ]
  },
  {
   "cell_type": "code",
   "execution_count": 71,
   "id": "719283f4-ea8d-4d3f-a87a-3152f47ea815",
   "metadata": {},
   "outputs": [
    {
     "name": "stdout",
     "output_type": "stream",
     "text": [
      "found 'e' at pos: 1\n",
      "found 'e' at pos: 5\n"
     ]
    }
   ],
   "source": [
    "letter = 'e'\n",
    "n = city.count(letter)\n",
    "pos = 0\n",
    "for _ in range(n):\n",
    "    pos = city.index(letter, pos)\n",
    "    print(f\"found '{letter}' at pos: {pos}\")\n",
    "    pos += 1 # pos = pos + 1\n",
    "    "
   ]
  },
  {
   "cell_type": "code",
   "execution_count": 72,
   "id": "153427ed-3623-47ad-8fd8-3076bcbaa3f4",
   "metadata": {},
   "outputs": [
    {
     "name": "stdout",
     "output_type": "stream",
     "text": [
      "0 1 2 3 4 5 6 7 8 9 "
     ]
    }
   ],
   "source": [
    "for i in range(10):\n",
    "    print(i, end=' ')"
   ]
  },
  {
   "cell_type": "code",
   "execution_count": 74,
   "id": "e874da2b-1ac9-4530-af15-8e13d0cf0257",
   "metadata": {},
   "outputs": [
    {
     "name": "stdout",
     "output_type": "stream",
     "text": [
      "G  e  n  è  v  e  "
     ]
    }
   ],
   "source": [
    "for letter in city:\n",
    "    print(letter, end='  ')"
   ]
  },
  {
   "cell_type": "code",
   "execution_count": 76,
   "id": "2fe74897-731d-4640-b81f-56109104b11d",
   "metadata": {},
   "outputs": [
    {
     "name": "stdout",
     "output_type": "stream",
     "text": [
      "found 'e' at pos: 1\n",
      "found 'e' at pos: 5\n"
     ]
    }
   ],
   "source": [
    "letter = 'e'\n",
    "pos = 0\n",
    "found = True\n",
    "while found:\n",
    "    try:\n",
    "        pos = city.index(letter, pos)\n",
    "        print(f\"found '{letter}' at pos: {pos}\")\n",
    "        pos += 1 # pos = pos + 1\n",
    "    except ValueError:\n",
    "        found = False"
   ]
  },
  {
   "cell_type": "code",
   "execution_count": 77,
   "id": "058ba6f3-9b1e-4bae-b150-2c09525d59cb",
   "metadata": {},
   "outputs": [
    {
     "data": {
      "text/plain": [
       "'ève'"
      ]
     },
     "execution_count": 77,
     "metadata": {},
     "output_type": "execute_result"
    }
   ],
   "source": [
    "city[-3:]"
   ]
  }
 ],
 "metadata": {
  "kernelspec": {
   "display_name": "Python 3 (ipykernel)",
   "language": "python",
   "name": "python3"
  },
  "language_info": {
   "codemirror_mode": {
    "name": "ipython",
    "version": 3
   },
   "file_extension": ".py",
   "mimetype": "text/x-python",
   "name": "python",
   "nbconvert_exporter": "python",
   "pygments_lexer": "ipython3",
   "version": "3.9.12"
  }
 },
 "nbformat": 4,
 "nbformat_minor": 5
}
